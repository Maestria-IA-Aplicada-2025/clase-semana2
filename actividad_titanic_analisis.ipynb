{
  "cells": [
    {
      "cell_type": "markdown",
      "metadata": {
        "id": "view-in-github",
        "colab_type": "text"
      },
      "source": [
        "<a href=\"https://colab.research.google.com/github/Maestria-IA-Aplicada-2025/clase-semana2/blob/main/actividad_titanic_analisis.ipynb\" target=\"_parent\"><img src=\"https://colab.research.google.com/assets/colab-badge.svg\" alt=\"Open In Colab\"/></a>"
      ]
    },
    {
      "cell_type": "markdown",
      "id": "57f47713",
      "metadata": {
        "id": "57f47713"
      },
      "source": [
        "# 🎓 Actividad: Análisis Exploratorio con el Dataset del Titanic\n",
        "\n",
        "En esta actividad, deberás aplicar tus conocimientos de `pandas`, `matplotlib`, `sqlite3` y manejo de archivos Excel para analizar un subconjunto del dataset del Titanic.\n",
        "\n",
        "## 📌 Objetivos\n",
        "- Practicar la carga de datos desde diferentes fuentes (texto, Excel, SQLite).\n",
        "- Aplicar operaciones básicas de agrupamiento y filtrado con `pandas`.\n",
        "- Crear visualizaciones con `matplotlib` para interpretar resultados."
      ]
    },
    {
      "cell_type": "markdown",
      "id": "98a78581",
      "metadata": {
        "id": "98a78581"
      },
      "source": [
        "## 📥 Paso 1: Cargar los datos desde texto (simulado como CSV)\n",
        "\n",
        "Utiliza `pandas` y `StringIO` para cargar este dataset."
      ]
    },
    {
      "cell_type": "code",
      "execution_count": null,
      "id": "646a7832",
      "metadata": {
        "id": "646a7832"
      },
      "outputs": [],
      "source": [
        "from io import StringIO\n",
        "import pandas as pd\n",
        "\n",
        "titanic_data = '''Nombre,Edad,Genero,Clase,Superviviente\n",
        "Allen,29,female,1,1\n",
        "Braund,22,male,3,0\n",
        "Cumings,38,female,1,1\n",
        "Heikkinen,26,female,3,1\n",
        "Futrelle,35,female,1,0\n",
        "Moran,,male,3,0\n",
        "Nasser,21,female,1,1'''\n",
        "\n",
        "# TU CÓDIGO AQUÍ:\n",
        "df_titanic = pd.read_csv(StringIO(titanic_data))\n",
        "df_titanic"
      ]
    },
    {
      "cell_type": "markdown",
      "id": "9e509e20",
      "metadata": {
        "id": "9e509e20"
      },
      "source": [
        "## 💾 Paso 2: Guardar los datos en formato Excel y volver a cargarlos\n",
        "\n",
        "Usa el método `to_excel` y `read_excel` de `pandas`. Recuerda usar el formato `.xlsx`."
      ]
    },
    {
      "cell_type": "code",
      "execution_count": null,
      "id": "d1a6b909",
      "metadata": {
        "id": "d1a6b909"
      },
      "outputs": [],
      "source": [
        "# TU CÓDIGO AQUÍ:\n",
        "df_titanic.to_excel(\"/mnt/data/titanic_actividad.xlsx\", index=False)\n",
        "df_excel = pd.read_excel(\"/mnt/data/titanic_actividad.xlsx\")\n",
        "df_excel"
      ]
    },
    {
      "cell_type": "markdown",
      "id": "312f3379",
      "metadata": {
        "id": "312f3379"
      },
      "source": [
        "## 🗃️ Paso 3: Guardar y consultar datos desde una base de datos SQLite\n",
        "\n",
        "Utiliza `sqlite3` para crear una base de datos en memoria y guardar la tabla. Luego consulta todos los datos con SQL."
      ]
    },
    {
      "cell_type": "code",
      "execution_count": null,
      "id": "b10415ff",
      "metadata": {
        "id": "b10415ff"
      },
      "outputs": [],
      "source": [
        "import sqlite3\n",
        "\n",
        "# TU CÓDIGO AQUÍ:\n",
        "conn = sqlite3.connect(\":memory:\")\n",
        "df_excel.to_sql(\"titanic\", conn, index=False, if_exists=\"replace\")\n",
        "df_sql = pd.read_sql(\"SELECT * FROM titanic\", conn)\n",
        "df_sql"
      ]
    },
    {
      "cell_type": "markdown",
      "id": "f829ea13",
      "metadata": {
        "id": "f829ea13"
      },
      "source": [
        "## 📊 Paso 4: Análisis de datos con pandas\n",
        "\n",
        "1. ¿Cuál es la edad promedio por clase?\n",
        "2. ¿Cuántas personas sobrevivieron por género?"
      ]
    },
    {
      "cell_type": "code",
      "source": [
        "from google.colab import drive\n",
        "drive.mount('/content/drive')"
      ],
      "metadata": {
        "colab": {
          "base_uri": "https://localhost:8080/"
        },
        "id": "AFZlr84WerBI",
        "outputId": "71ff79ae-aa11-4f28-e167-91245e470931"
      },
      "id": "AFZlr84WerBI",
      "execution_count": null,
      "outputs": [
        {
          "output_type": "stream",
          "name": "stdout",
          "text": [
            "Mounted at /content/drive\n"
          ]
        }
      ]
    },
    {
      "cell_type": "code",
      "execution_count": null,
      "id": "c32bf816",
      "metadata": {
        "id": "c32bf816"
      },
      "outputs": [],
      "source": [
        "# Edad promedio por clase\n",
        "df_sql.groupby(\"Clase\")[\"Edad\"].mean()"
      ]
    },
    {
      "cell_type": "code",
      "execution_count": null,
      "id": "ebd2bd80",
      "metadata": {
        "id": "ebd2bd80"
      },
      "outputs": [],
      "source": [
        "# Sobrevivientes por género\n",
        "df_sql.groupby(\"Genero\")[\"Superviviente\"].sum()"
      ]
    },
    {
      "cell_type": "markdown",
      "id": "21de7d7a",
      "metadata": {
        "id": "21de7d7a"
      },
      "source": [
        "## 📈 Paso 5: Visualización con matplotlib\n",
        "\n",
        "1. Crea un histograma de la columna `Edad`.\n",
        "2. Crea un gráfico de barras de `Superviviente` agrupado por `Clase`."
      ]
    },
    {
      "cell_type": "code",
      "execution_count": null,
      "id": "e281ceaa",
      "metadata": {
        "id": "e281ceaa"
      },
      "outputs": [],
      "source": [
        "import matplotlib.pyplot as plt\n",
        "\n",
        "# Histograma de edades\n",
        "plt.figure(figsize=(8, 5))\n",
        "df_sql[\"Edad\"].dropna().plot(kind='hist', bins=5, color='skyblue', edgecolor='black')\n",
        "plt.title(\"Distribución de Edad\")\n",
        "plt.xlabel(\"Edad\")\n",
        "plt.grid(True)\n",
        "plt.tight_layout()\n",
        "plt.show()"
      ]
    },
    {
      "cell_type": "code",
      "execution_count": null,
      "id": "993896ac",
      "metadata": {
        "id": "993896ac"
      },
      "outputs": [],
      "source": [
        "# Gráfico de barras de sobrevivientes por clase\n",
        "sobrevivientes_clase = df_sql.groupby(\"Clase\")[\"Superviviente\"].sum()\n",
        "\n",
        "plt.figure(figsize=(8, 5))\n",
        "sobrevivientes_clase.plot(kind='bar', color='orange', edgecolor='black')\n",
        "plt.title(\"Sobrevivientes por Clase\")\n",
        "plt.xlabel(\"Clase\")\n",
        "plt.ylabel(\"Cantidad de Sobrevivientes\")\n",
        "plt.grid(True, axis='y')\n",
        "plt.tight_layout()\n",
        "plt.show()"
      ]
    }
  ],
  "metadata": {
    "kernelspec": {
      "display_name": "Python 3 (ipykernel)",
      "language": "python",
      "name": "python3"
    },
    "language_info": {
      "codemirror_mode": {
        "name": "ipython",
        "version": 3
      },
      "file_extension": ".py",
      "mimetype": "text/x-python",
      "name": "python",
      "nbconvert_exporter": "python",
      "pygments_lexer": "ipython3",
      "version": "3.12.5"
    },
    "colab": {
      "provenance": [],
      "include_colab_link": true
    }
  },
  "nbformat": 4,
  "nbformat_minor": 5
}